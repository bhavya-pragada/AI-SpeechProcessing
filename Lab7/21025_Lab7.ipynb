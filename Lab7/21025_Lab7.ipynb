{
 "cells": [
  {
   "cell_type": "markdown",
   "id": "5dec5f0d",
   "metadata": {},
   "source": [
    "## BL.EN.U4AIE21025\n",
    "## Bhavya Sri Pragada"
   ]
  },
  {
   "cell_type": "markdown",
   "id": "4dbdfd14",
   "metadata": {},
   "source": [
    "## A1.Use HMM for classification of your speech signal using STFT features."
   ]
  },
  {
   "cell_type": "code",
   "execution_count": 1,
   "id": "6ab208a3",
   "metadata": {},
   "outputs": [
    {
     "name": "stdout",
     "output_type": "stream",
     "text": [
      "Requirement already satisfied: hmmlearn in /Users/umamaheswararaopragada/opt/anaconda3/lib/python3.9/site-packages (0.3.0)\n",
      "Requirement already satisfied: numpy>=1.10 in /Users/umamaheswararaopragada/opt/anaconda3/lib/python3.9/site-packages (from hmmlearn) (1.21.5)\n",
      "Requirement already satisfied: scikit-learn!=0.22.0,>=0.16 in /Users/umamaheswararaopragada/opt/anaconda3/lib/python3.9/site-packages (from hmmlearn) (1.0.2)\n",
      "Requirement already satisfied: scipy>=0.19 in /Users/umamaheswararaopragada/opt/anaconda3/lib/python3.9/site-packages (from hmmlearn) (1.9.1)\n",
      "Requirement already satisfied: joblib>=0.11 in /Users/umamaheswararaopragada/opt/anaconda3/lib/python3.9/site-packages (from scikit-learn!=0.22.0,>=0.16->hmmlearn) (1.2.0)\n",
      "Requirement already satisfied: threadpoolctl>=2.0.0 in /Users/umamaheswararaopragada/opt/anaconda3/lib/python3.9/site-packages (from scikit-learn!=0.22.0,>=0.16->hmmlearn) (2.2.0)\n",
      "\n",
      "\u001b[1m[\u001b[0m\u001b[34;49mnotice\u001b[0m\u001b[1;39;49m]\u001b[0m\u001b[39;49m A new release of pip is available: \u001b[0m\u001b[31;49m23.3.1\u001b[0m\u001b[39;49m -> \u001b[0m\u001b[32;49m24.0\u001b[0m\n",
      "\u001b[1m[\u001b[0m\u001b[34;49mnotice\u001b[0m\u001b[1;39;49m]\u001b[0m\u001b[39;49m To update, run: \u001b[0m\u001b[32;49mpip install --upgrade pip\u001b[0m\n",
      "Note: you may need to restart the kernel to use updated packages.\n"
     ]
    }
   ],
   "source": [
    "pip install hmmlearn"
   ]
  },
  {
   "cell_type": "code",
   "execution_count": 4,
   "id": "cf79839d",
   "metadata": {},
   "outputs": [
    {
     "name": "stdout",
     "output_type": "stream",
     "text": [
      "State sequence: [2 1 1 1 1 1 1 1 1 2 2 2 2 2 2 2 2 2 2 2 2 2 2 2 2 2 2 2 2 2 2 2 2 2 2 2 2\n",
      " 2 2 2 2 2 2 2 2 2 2 2 2 2 2 2 2 2 2 2 2 2 2 2 2 2 2 2 2 2 2 0 0 0 0 0 0 0\n",
      " 0 0 0 0 0 0 0 0 0 0 0 0 0 0 0 0 0 0 0 0 0 0 0 0 0 0 0 0 0 0 0 0 0 0 0 0 0\n",
      " 0 0 0 0 0 0 0 0 0 0 0 0 0 0 0 0 0 0 0 0 0 0 0 0 0 0 0 0 0 0 0 0 0 0 0 0 0\n",
      " 0 0 0 0 0 0 0 0 0 0 0 0 0 0 0 0 0 0 0 0 0 0 0 0 0 0 0 0 0 0 0 0 0 0 0 0 0\n",
      " 0 0 0 0 0 0 0 0 0 0 0 0 0 0 0 0]\n",
      "Log likelihood of the observed sequence: -197111.6743807255\n"
     ]
    }
   ],
   "source": [
    "import numpy as np\n",
    "from scipy.io import wavfile\n",
    "from scipy.signal import stft\n",
    "from hmmlearn import hmm\n",
    "\n",
    "# Load speech signal\n",
    "def load_data(filename):\n",
    "    sample_rate, signal = wavfile.read(filename)\n",
    "    return sample_rate, signal\n",
    "\n",
    "# Extract features using Short-Time Fourier Transform\n",
    "def extract_features(signal, sample_rate):\n",
    "    _, _, Zxx = stft(signal, fs=sample_rate, nperseg=400)\n",
    "    return np.abs(Zxx)\n",
    "\n",
    "# Train HMM model\n",
    "def train_hmm(features):\n",
    "    model = hmm.GaussianHMM(n_components=3, covariance_type=\"diag\")\n",
    "    model.fit(features)\n",
    "    return model\n",
    "\n",
    "# Segment speech using trained HMM model\n",
    "def segment_speech(model, features):\n",
    "    state_sequence = model.predict(features)\n",
    "    return state_sequence\n",
    "\n",
    "# Calculate likelihood\n",
    "def calculate_likelihood(model, features):\n",
    "    likelihood = model.score(features)\n",
    "    return likelihood\n",
    "\n",
    "# Main function\n",
    "def main():\n",
    "    filename = 'Bhavya_voice1.wav'  # Change to your speech file\n",
    "    sample_rate, signal = load_data(filename)\n",
    "    features = extract_features(signal, sample_rate)\n",
    "    model = train_hmm(features)\n",
    "    state_sequence = segment_speech(model, features)\n",
    "    print(\"State sequence:\", state_sequence)\n",
    "    likelihood = calculate_likelihood(model, features)\n",
    "    print(\"Log likelihood of the observed sequence:\", likelihood)\n",
    "\n",
    "if __name__ == \"__main__\":\n",
    "    main()\n"
   ]
  },
  {
   "cell_type": "code",
   "execution_count": null,
   "id": "1b16fcf2",
   "metadata": {},
   "outputs": [],
   "source": []
  }
 ],
 "metadata": {
  "kernelspec": {
   "display_name": "Python 3 (ipykernel)",
   "language": "python",
   "name": "python3"
  },
  "language_info": {
   "codemirror_mode": {
    "name": "ipython",
    "version": 3
   },
   "file_extension": ".py",
   "mimetype": "text/x-python",
   "name": "python",
   "nbconvert_exporter": "python",
   "pygments_lexer": "ipython3",
   "version": "3.9.13"
  }
 },
 "nbformat": 4,
 "nbformat_minor": 5
}
